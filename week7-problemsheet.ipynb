{
 "cells": [
  {
   "cell_type": "code",
   "execution_count": 86,
   "metadata": {},
   "outputs": [],
   "source": [
    "import numpy as np\n",
    "import random"
   ]
  },
  {
   "cell_type": "markdown",
   "metadata": {},
   "source": [
    "## QUESTION 1\n",
    "\n",
    "Insertion sort algorithm:\n",
    "\n",
    "Starting with the first and second elements, if the first is bigger than the second swap them. Move down the list swapping adjacent elements if the one on the left is greater."
   ]
  },
  {
   "cell_type": "code",
   "execution_count": 162,
   "metadata": {},
   "outputs": [],
   "source": [
    "# define the insertion sort algorithm\n",
    "def insertionSort(A):\n",
    "    n = len(A)  \n",
    "    \n",
    "    # an array of length 1 or 0 is already sorted \n",
    "    if n <= 1:\n",
    "        return A\n",
    "    \n",
    "    # iterate over the list starting with the second element\n",
    "    for i in range(1, n):  \n",
    "        # store the ith element of the list\n",
    "        A_i = A[i]  \n",
    "        \n",
    "        # define the jth element to be left of the ith element\n",
    "        j = i-1\n",
    "        \n",
    "        # if jth element > ith element, swap them\n",
    "        while j>= 0 and A_i<A[j]:  \n",
    "                A[j+1] = A[j]  \n",
    "                j -= 1\n",
    "        # otherwise, if ith element > jth element, keep the ith element where it is\n",
    "        A[j+1] = A_i\n",
    "    \n",
    "    # return the sorted list\n",
    "    return A"
   ]
  },
  {
   "cell_type": "markdown",
   "metadata": {},
   "source": [
    "Test the algorithm on a random sample:"
   ]
  },
  {
   "cell_type": "code",
   "execution_count": 164,
   "metadata": {},
   "outputs": [
    {
     "data": {
      "text/plain": [
       "[8, 14, 17, 23, 29, 58, 62, 67, 90, 123, 136, 140, 148, 167, 186, 187]"
      ]
     },
     "execution_count": 164,
     "metadata": {},
     "output_type": "execute_result"
    }
   ],
   "source": [
    "test = random.sample(range(1, 200), 16)\n",
    "insertionSort (test)"
   ]
  },
  {
   "cell_type": "markdown",
   "metadata": {},
   "source": [
    "Compare with the built in python sort function:"
   ]
  },
  {
   "cell_type": "code",
   "execution_count": 165,
   "metadata": {},
   "outputs": [
    {
     "data": {
      "text/plain": [
       "[8, 14, 17, 23, 29, 58, 62, 67, 90, 123, 136, 140, 148, 167, 186, 187]"
      ]
     },
     "execution_count": 165,
     "metadata": {},
     "output_type": "execute_result"
    }
   ],
   "source": [
    "sorted(test)"
   ]
  },
  {
   "cell_type": "markdown",
   "metadata": {},
   "source": [
    "These sorted lists are identical, hence we see our insertion sort algorithm works."
   ]
  },
  {
   "cell_type": "markdown",
   "metadata": {},
   "source": [
    "\n",
    "\n"
   ]
  },
  {
   "cell_type": "markdown",
   "metadata": {},
   "source": [
    "## QUESTION 2\n",
    "\n",
    "Input the interlace function, as given:"
   ]
  },
  {
   "cell_type": "code",
   "execution_count": 68,
   "metadata": {},
   "outputs": [],
   "source": [
    "# define interlace function\n",
    "def interlace(list1, list2):\n",
    "    alist = []\n",
    "    \n",
    "    #if one of the lists is empty return the other\n",
    "    if (len(list1) == 0):\n",
    "        return list2\n",
    "    elif (len(list2) == 0):\n",
    "        return list1\n",
    "    \n",
    "    # compare first elements and add the smallest to new list\n",
    "    # move to the next element in the list that we have removed an element from\n",
    "    # compare to the same element of the other list\n",
    "    # repeat\n",
    "    elif list1[0] < list2[0]:\n",
    "        alist.append(list1[0])\n",
    "        return alist + interlace(list1[1:], list2)\n",
    "    else:\n",
    "        alist.append(list2[0])\n",
    "        return alist + interlace(list1, list2[1:])"
   ]
  },
  {
   "cell_type": "markdown",
   "metadata": {},
   "source": [
    "Check the interlace function works on two sorted lists:"
   ]
  },
  {
   "cell_type": "code",
   "execution_count": 69,
   "metadata": {},
   "outputs": [
    {
     "data": {
      "text/plain": [
       "[1, 2, 3, 4, 5, 6, 7, 8]"
      ]
     },
     "execution_count": 69,
     "metadata": {},
     "output_type": "execute_result"
    }
   ],
   "source": [
    "a = [1,3,5,7]\n",
    "b=[2,4,6,8]\n",
    "interlace (a,b)"
   ]
  },
  {
   "cell_type": "markdown",
   "metadata": {},
   "source": [
    "Compare this with the built in sort function:"
   ]
  },
  {
   "cell_type": "code",
   "execution_count": 91,
   "metadata": {},
   "outputs": [
    {
     "data": {
      "text/plain": [
       "[1, 2, 3, 4, 5, 6, 7, 8]"
      ]
     },
     "execution_count": 91,
     "metadata": {},
     "output_type": "execute_result"
    }
   ],
   "source": [
    "sorted(a+b)"
   ]
  },
  {
   "cell_type": "markdown",
   "metadata": {},
   "source": [
    "These results are the same, hence the interlace function works.\n",
    "\n"
   ]
  },
  {
   "cell_type": "markdown",
   "metadata": {},
   "source": [
    "\n",
    "\n",
    "Use the interlace function to implement the merge sort algorithm on a single list by splitting the list into two smaller lists and sorting reccurssively:"
   ]
  },
  {
   "cell_type": "code",
   "execution_count": 135,
   "metadata": {},
   "outputs": [],
   "source": [
    "# define mergesort function\n",
    "def mergeSort(A):\n",
    "    n=len(A)\n",
    "    \n",
    "    # an array of length 1 or 0 is already sorted\n",
    "    if n <= 1:\n",
    "        return A  \n",
    "    \n",
    "    # split the list in half and apply the recurssive interlace function\n",
    "    else: \n",
    "        m=n//2\n",
    "    return interlace(mergeSort(A[0:m]), mergeSort(A[m:n]))"
   ]
  },
  {
   "cell_type": "markdown",
   "metadata": {},
   "source": [
    "Test that the mergesort function works on a random sample of 16 elements:"
   ]
  },
  {
   "cell_type": "code",
   "execution_count": 82,
   "metadata": {},
   "outputs": [
    {
     "data": {
      "text/plain": [
       "[2, 24, 28, 57, 59, 88, 92, 107, 111, 113, 147, 149, 160, 163, 171, 193]"
      ]
     },
     "execution_count": 82,
     "metadata": {},
     "output_type": "execute_result"
    }
   ],
   "source": [
    "sample = random.sample(range(1, 200), 16)\n",
    "mergeSort(sample)"
   ]
  },
  {
   "cell_type": "markdown",
   "metadata": {},
   "source": [
    "Compare with the built in sort function to see if it has worked:"
   ]
  },
  {
   "cell_type": "code",
   "execution_count": 89,
   "metadata": {},
   "outputs": [
    {
     "data": {
      "text/plain": [
       "[2, 24, 28, 57, 59, 88, 92, 107, 111, 113, 147, 149, 160, 163, 171, 193]"
      ]
     },
     "execution_count": 89,
     "metadata": {},
     "output_type": "execute_result"
    }
   ],
   "source": [
    "sorted(sample)"
   ]
  },
  {
   "cell_type": "markdown",
   "metadata": {},
   "source": [
    "These results are both the same, hence our mergesort algorithm works."
   ]
  },
  {
   "cell_type": "markdown",
   "metadata": {},
   "source": [
    "  "
   ]
  },
  {
   "cell_type": "markdown",
   "metadata": {},
   "source": [
    "## QUESTION 3\n",
    "\n",
    "Define an iterative interlace function that merges two sorted lists.\n",
    "\n",
    "Starting at the first elements of each list, compare them and add the smallest element to our new sorted list. Move to the next element of the list the smallest element came from and then compare this element with the same element as before in the other list. Repeat this until one or both of the lists are empty. \n",
    "\n",
    "If the lists are not the same length one will still have remaining elements. We can add these directly on to the end of our sorted list as the two lists are already sorted."
   ]
  },
  {
   "cell_type": "code",
   "execution_count": 128,
   "metadata": {},
   "outputs": [],
   "source": [
    "# define merge function\n",
    "def interlace_iterative(A, left, mid, right):         \n",
    "    \n",
    "    #define a new list which is empty at first\n",
    "    merged_list = []                                 \n",
    "    \n",
    "    i = left\n",
    "    j = mid\n",
    "    \n",
    "    # split A into two sorted lists, list1 and list2\n",
    "    while i < mid and j < right:\n",
    "        \n",
    "        # if element of list1 < element of list2, add the list1 element to the new merged list\n",
    "        if A[i] < A[j]:           \n",
    "            merged_list.append(A[i])\n",
    "            # move to the next element in list1 and compare to the same list2 element as before\n",
    "            i += 1\n",
    "        \n",
    "        \n",
    "        else: \n",
    "        # if element of list1 > element of list2, add the list2 element to the new merged list\n",
    "            merged_list.append(A[j])\n",
    "            # move to the next element in list2 and compare to the same list1 element as before\n",
    "            j += 1\n",
    "    \n",
    "    # if list2 is longer than list2, add the remaining elements of list1 to the end of the list\n",
    "    # we can do this since list1 is sorted\n",
    "    while i < mid:                            \n",
    "            merged_list.append(A[i])\n",
    "            i += 1\n",
    "    \n",
    "    # if list2 is longer than list1, add the remaining elements of list2 to the end of the list\n",
    "    # we can do this since list2 is sorted\n",
    "    while j < right:                          \n",
    "            merged_list.append(A[j])\n",
    "            j += 1\n",
    "            \n",
    "    # set the values of the merged list equal to A\n",
    "    for k in range(left, right):              \n",
    "            A[k] = merged_list[k - left]\n",
    "    \n",
    "    # return the sorted list\n",
    "    return merged_list"
   ]
  },
  {
   "cell_type": "markdown",
   "metadata": {},
   "source": [
    "Now we use this iterative interlace function to mergesort.\n",
    "\n",
    "If the list has one element return it.\n",
    "\n",
    "Otherwise, split the list in to n sublists of size 1 and merge each adjacent list using iterative interlace so you now have n/2 sorted lists. Repeat this over, merging adjacent sublists until only one sublist remains, our final sorted list."
   ]
  },
  {
   "cell_type": "code",
   "execution_count": 136,
   "metadata": {},
   "outputs": [],
   "source": [
    "# define the mergesort iterative function\n",
    "def merge_sort_iterative(A):            \n",
    "    \n",
    "    # n is the size of the list A\n",
    "    n = len(A)\n",
    "    \n",
    "    # an array of length 1 or 0 is already sorted\n",
    "    if n <= 1:\n",
    "        return A  \n",
    "    \n",
    "    # firstly split the list in to n sublists of size 1\n",
    "    width = 1                                 \n",
    "       \n",
    "    while width < n:\n",
    "        for i in range(0, n, width * 2):\n",
    "            left = i\n",
    "            mid = min(i + width, n)\n",
    "            right = min(i + width * 2, n)\n",
    "            \n",
    "            # merge adjacent sublists to create n/2 new sorted sublists \n",
    "            interlace_iterative(A, left, mid, right)  \n",
    "        \n",
    "        # repeat until only one sublist remains \n",
    "        width *= 2\n",
    "    \n",
    "    # return the sorted list\n",
    "    return A"
   ]
  },
  {
   "cell_type": "markdown",
   "metadata": {},
   "source": [
    "Test if this algorithm works on a random sample:"
   ]
  },
  {
   "cell_type": "code",
   "execution_count": 132,
   "metadata": {},
   "outputs": [
    {
     "data": {
      "text/plain": [
       "[13, 34, 40, 47, 84, 110, 157, 188]"
      ]
     },
     "execution_count": 132,
     "metadata": {},
     "output_type": "execute_result"
    }
   ],
   "source": [
    "b = random.sample(range(1,200),8)\n",
    "merge_sort_iterative(b)"
   ]
  },
  {
   "cell_type": "code",
   "execution_count": 133,
   "metadata": {},
   "outputs": [
    {
     "data": {
      "text/plain": [
       "[13, 34, 40, 47, 84, 110, 157, 188]"
      ]
     },
     "execution_count": 133,
     "metadata": {},
     "output_type": "execute_result"
    }
   ],
   "source": [
    "sorted(b)"
   ]
  },
  {
   "cell_type": "markdown",
   "metadata": {},
   "source": [
    "We get the same sorted lists so our iterative mergesort function works."
   ]
  },
  {
   "cell_type": "code",
   "execution_count": null,
   "metadata": {},
   "outputs": [],
   "source": []
  }
 ],
 "metadata": {
  "kernelspec": {
   "display_name": "Python 3",
   "language": "python",
   "name": "python3"
  },
  "language_info": {
   "codemirror_mode": {
    "name": "ipython",
    "version": 3
   },
   "file_extension": ".py",
   "mimetype": "text/x-python",
   "name": "python",
   "nbconvert_exporter": "python",
   "pygments_lexer": "ipython3",
   "version": "3.8.5"
  }
 },
 "nbformat": 4,
 "nbformat_minor": 4
}
