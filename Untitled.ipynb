{
 "cells": [
  {
   "cell_type": "code",
   "execution_count": null,
   "metadata": {},
   "outputs": [],
   "source": [
    "# define the mergesort iterative function\n",
    "def interlace_iterative(list1, list2):    \n",
    "   \n",
    "    #if one of the lists is null, return the other\n",
    "    if len(list1)==0:\n",
    "        return list2\n",
    "    if len(list2)==0:\n",
    "        return list1\n",
    "    \n",
    "    #define a new list which is empty at first\n",
    "    merged_list = []\n",
    "    \n",
    "    #start at the first element in each list\n",
    "    i = j = 0\n",
    "\n",
    "    while i < len(list1) and j < len(list2):\n",
    "        if list1[i] < list2[j]:\n",
    "            # if element of list1 < element of list2, add the list1 element to the new merged list\n",
    "            merged_list.append(list1[i])\n",
    "            # move to the next element in list1 and compare to the same list2 element as before\n",
    "            i += 1\n",
    "        else:\n",
    "            # if element of list1 > element of list2, add the list2 element to the new merged list\n",
    "            merged_list.append(list2[j])\n",
    "            # move to the next element in list2 and compare to the same list1 element as before\n",
    "            j += 1\n",
    "\n",
    "    # If the two lists are different lengths one will have remaining elements\n",
    "    # add these directly to the end of the new merged list \n",
    "    # (we can do this since both lists are sorted)\n",
    "    merged_list.extend(list1[i:])\n",
    "    merged_list.extend(list2[j:])\n",
    "\n",
    "    return merged_list"
   ]
  }
 ],
 "metadata": {
  "kernelspec": {
   "display_name": "Python 3",
   "language": "python",
   "name": "python3"
  },
  "language_info": {
   "codemirror_mode": {
    "name": "ipython",
    "version": 3
   },
   "file_extension": ".py",
   "mimetype": "text/x-python",
   "name": "python",
   "nbconvert_exporter": "python",
   "pygments_lexer": "ipython3",
   "version": "3.8.5"
  }
 },
 "nbformat": 4,
 "nbformat_minor": 4
}
